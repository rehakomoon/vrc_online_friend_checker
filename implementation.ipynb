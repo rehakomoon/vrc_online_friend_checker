{
 "cells": [
  {
   "cell_type": "code",
   "execution_count": 156,
   "metadata": {},
   "source": [
    "!pip install vrcpy\n",
    "!pip install plyer"
   ]
  },
  {
   "cell_type": "code",
   "execution_count": 1,
   "metadata": {},
   "outputs": [],
   "source": [
    "import vrcpy\n",
    "import json\n",
    "import itertools\n",
    "from plyer import notification"
   ]
  },
  {
   "cell_type": "code",
   "execution_count": 2,
   "metadata": {},
   "outputs": [],
   "source": [
    "with open(\"./setting.json\", \"r\") as f:\n",
    "    setting = json.load(f)\n",
    "\n",
    "client = vrcpy.Client()\n",
    "client.login(**setting)"
   ]
  },
  {
   "cell_type": "code",
   "execution_count": null,
   "metadata": {},
   "outputs": [],
   "source": [
    "# name_list -> id_list\n",
    "\n",
    "with open(\"name_list.txt\", \"r\", encoding=\"utf-8\") as f:\n",
    "    lines = f.readlines()\n",
    "lines = [l.strip() for l in lines]\n",
    "\n",
    "res = [client.api.call(\"/users\", params={\"search\":name}) for name in lines]\n",
    "res = list(itertools.chain.from_iterable([r[\"data\"] for r in res]))\n",
    "res = [{\"id\": r[\"id\"], \"username\": r[\"username\"], \"displayName\": r[\"displayName\"]} for r in res]\n",
    "\n",
    "s = [f'{r[\"id\"]}: {r[\"displayName\"]}/{r[\"username\"]}' for r in res]\n",
    "print(\"\\n\".join(s))\n",
    "\n",
    "with open(\"id_list.txt\", \"w\", encoding=\"utf-8\") as f:\n",
    "    for r in res:\n",
    "        f.write(f'{r[\"id\"]} # {r[\"displayName\"]}/{r[\"username\"]}\\n')"
   ]
  },
  {
   "cell_type": "code",
   "execution_count": 4,
   "metadata": {},
   "outputs": [],
   "source": [
    "# main function\n",
    "\n",
    "with open(\"id_list.txt\", \"r\", encoding=\"utf-8\") as f:\n",
    "    lines = f.readlines()\n",
    "\n",
    "lines = [l.split(\"#\")[0] for l in lines]\n",
    "lines = [l.strip() for l in lines]\n",
    "lines = [l for l in lines if len(l) > 0]\n",
    "\n",
    "res = [client.fetch_user_by_id(l) for l in lines]\n",
    "res = [r for r in res if hasattr(r, \"state\")]\n",
    "\n",
    "online_friends = [r.displayName for r in res if r.state == \"online\"]"
   ]
  },
  {
   "cell_type": "code",
   "execution_count": 5,
   "metadata": {},
   "outputs": [],
   "source": [
    "if (len(online_friends) > 0):\n",
    "    s = \", \".join(online_friends)\n",
    "    notification.notify(\n",
    "        title = \"フレンドがオンラインです\",\n",
    "        message=f'{s} is online now',\n",
    "        app_name='VRC Online Friend Checker',\n",
    "    )"
   ]
  }
 ],
 "metadata": {
  "kernelspec": {
   "display_name": "Python 3",
   "language": "python",
   "name": "python3"
  },
  "language_info": {
   "codemirror_mode": {
    "name": "ipython",
    "version": 3
   },
   "file_extension": ".py",
   "mimetype": "text/x-python",
   "name": "python",
   "nbconvert_exporter": "python",
   "pygments_lexer": "ipython3",
   "version": "3.7.7"
  }
 },
 "nbformat": 4,
 "nbformat_minor": 4
}
